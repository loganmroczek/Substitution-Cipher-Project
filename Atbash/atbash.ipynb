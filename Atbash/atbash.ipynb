{
 "cells": [
  {
   "cell_type": "code",
   "execution_count": 3,
   "id": "832759af",
   "metadata": {},
   "outputs": [],
   "source": [
    "# run to get access to functions in generic_sub_ciphers.ipynb (substitution_encrypt, substitution_decrypt, add_upper are ones that will be needed)\n",
    "%run ../Generic_Sub_Ciphers/generic_sub_ciphers.ipynb"
   ]
  },
  {
   "cell_type": "code",
   "execution_count": 4,
   "id": "bd48ffb9",
   "metadata": {},
   "outputs": [],
   "source": [
    "def atbash_cipher_alphabet():\n",
    "    \"\"\"\n",
    "    Creates cipher_alphabet for the atbash \n",
    "    \"\"\"\n",
    "    alphabet = ['a','b','c','d','e','f','g','h','i','j','k','l','m','n','o','p','q','r','s','t','u','v','w','x','y','z']\n",
    "    cipher_alphabet = dict()\n",
    "\n",
    "    for index in range(len(alphabet)):\n",
    "        cipher_alphabet[alphabet[index]] = alphabet[-index-1]\n",
    "    \n",
    "    return cipher_alphabet\n",
    "    "
   ]
  },
  {
   "cell_type": "code",
   "execution_count": 5,
   "id": "c89e8c59",
   "metadata": {},
   "outputs": [
    {
     "data": {
      "text/plain": [
       "{'a': 'z',\n",
       " 'b': 'y',\n",
       " 'c': 'x',\n",
       " 'd': 'w',\n",
       " 'e': 'v',\n",
       " 'f': 'u',\n",
       " 'g': 't',\n",
       " 'h': 's',\n",
       " 'i': 'r',\n",
       " 'j': 'q',\n",
       " 'k': 'p',\n",
       " 'l': 'o',\n",
       " 'm': 'n',\n",
       " 'n': 'm',\n",
       " 'o': 'l',\n",
       " 'p': 'k',\n",
       " 'q': 'j',\n",
       " 'r': 'i',\n",
       " 's': 'h',\n",
       " 't': 'g',\n",
       " 'u': 'f',\n",
       " 'v': 'e',\n",
       " 'w': 'd',\n",
       " 'x': 'c',\n",
       " 'y': 'b',\n",
       " 'z': 'a'}"
      ]
     },
     "execution_count": 5,
     "metadata": {},
     "output_type": "execute_result"
    }
   ],
   "source": [
    "atbash_cipher_alphabet()"
   ]
  },
  {
   "cell_type": "code",
   "execution_count": null,
   "id": "bb53a96f",
   "metadata": {},
   "outputs": [],
   "source": [
    "def atbash_encrypt(plaintext_file, ciphertext_file):\n",
    "    \"\"\"\n",
    "    Reads plaintext file, encrypts using atbash cipher and writes to cipher text file\n",
    "\n",
    "    :param plaintext_file: plaintext file to be read and encrypted\n",
    "    :param ciphertext_file: encrypted text is written to this file\n",
    "    \"\"\"\n",
    "    # creates cipher_alphabet\n",
    "    cipher_alphabet = atbash_cipher_alphabet()\n",
    "\n",
    "    # calls the generic substitution_encrypt function which encrypts plaintext_file and writes to ciphertext_file\n",
    "    substitution_encrypt(plaintext_file, ciphertext_file, cipher_alphabet)\n"
   ]
  },
  {
   "cell_type": "code",
   "execution_count": 6,
   "id": "235f01d7",
   "metadata": {},
   "outputs": [],
   "source": [
    "atbash_encrypt('plaintext_test.txt', 'ciphertext.txt')"
   ]
  },
  {
   "cell_type": "code",
   "execution_count": null,
   "id": "beaed8b0",
   "metadata": {},
   "outputs": [],
   "source": [
    "def atbash_decrypt(ciphertext_file, plaintext_file):\n",
    "    \"\"\"\n",
    "    Reads cipher text file, decrypts using atbash cipher and writes to plaintext file\n",
    "\n",
    "    :param ciphertext_file: encrypted text to be read and decrypted\n",
    "    :param plaintext_file: plain text is written to this file\n",
    "    \"\"\"\n",
    "    # creates cipher_alphabet\n",
    "    cipher_alphabet = atbash_cipher_alphabet()\n",
    "\n",
    "    # calls the generic substitution_decrypt function which decrypts ciphertext_file and writes to plaintext_file\n",
    "    substitution_decrypt(ciphertext_file, plaintext_file, cipher_alphabet)"
   ]
  },
  {
   "cell_type": "code",
   "execution_count": 8,
   "id": "e661492c",
   "metadata": {},
   "outputs": [],
   "source": [
    "atbash_decrypt('ciphertext.txt', 'ciphertext_decrypted.txt')"
   ]
  }
 ],
 "metadata": {
  "kernelspec": {
   "display_name": "Python 3",
   "language": "python",
   "name": "python3"
  },
  "language_info": {
   "codemirror_mode": {
    "name": "ipython",
    "version": 3
   },
   "file_extension": ".py",
   "mimetype": "text/x-python",
   "name": "python",
   "nbconvert_exporter": "python",
   "pygments_lexer": "ipython3",
   "version": "3.12.1"
  }
 },
 "nbformat": 4,
 "nbformat_minor": 5
}
