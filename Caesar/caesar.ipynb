{
 "cells": [
  {
   "cell_type": "code",
   "execution_count": 4,
   "id": "8237b52c",
   "metadata": {},
   "outputs": [],
   "source": [
    "# run to get access to functions in generic_sub_ciphers.ipynb (substitution_encrypt, substitution_decrypt, add_upper are ones that will be needed)\n",
    "%run ../Generic_Sub_Ciphers/generic_sub_ciphers.ipynb"
   ]
  },
  {
   "cell_type": "code",
   "execution_count": 2,
   "id": "649425c3",
   "metadata": {},
   "outputs": [],
   "source": [
    "def caesar_cipher(text, shift):\n",
    "    result = \"\"\n",
    "    for char in text:\n",
    "        if char.isalpha():  # Only shift letters\n",
    "            base = ord('A') if char.isupper() else ord('a') # Shifts characters\n",
    "            result += chr((ord(char) - base + shift) % 26 + base)\n",
    "        else:\n",
    "            # Leave non-letters unchanged\n",
    "            result += char\n",
    "    return result"
   ]
  },
  {
   "cell_type": "code",
   "execution_count": 3,
   "id": "e613e2a0",
   "metadata": {},
   "outputs": [
    {
     "name": "stdout",
     "output_type": "stream",
     "text": [
      "Encrypted: Lipps, Asvph!\n",
      "Decrypted: Hello, World!\n"
     ]
    }
   ],
   "source": [
    "message = \"Hello, World!\"\n",
    "shift = 4\n",
    "\n",
    "encrypted = caesar_cipher(message, shift)\n",
    "print(\"Encrypted:\", encrypted)\n",
    "\n",
    "# Decrypting is just shifting backwards\n",
    "decrypted = caesar_cipher(encrypted, -shift)\n",
    "print(\"Decrypted:\", decrypted)"
   ]
  },
  {
   "cell_type": "code",
   "execution_count": null,
   "id": "0293c2d8",
   "metadata": {},
   "outputs": [],
   "source": [
    "def caesar_cipher_alphabet(shift):\n",
    "    \"\"\"\n",
    "    Creates and returns caesar cipher alphabet by applying shift to the substitution letters\n",
    "\n",
    "    :param cipher: The number of the letters the substitution letters are shifted by\n",
    "    \"\"\"\n",
    "    alphabet = \"abcdefghijklmnopqrstuvwxyz\"\n",
    "    cipher_alphabet = {}\n",
    "\n",
    "    for index in range(len(alphabet)):\n",
    "        cipher_alphabet[alphabet[index]] = alphabet[(shift+index) % len(alphabet)]\n",
    "    \n",
    "    return(cipher_alphabet)\n"
   ]
  },
  {
   "cell_type": "code",
   "execution_count": null,
   "id": "2005f1ea",
   "metadata": {},
   "outputs": [],
   "source": [
    "def caesar_encrypt(plaintext_file, ciphertext_file, shift):\n",
    "    \"\"\"\n",
    "    Reads plaintext file, encrypts using caesar cipher and writes to cipher text file\n",
    "\n",
    "    :param plaintext_file: plaintext file to be read and encrypted\n",
    "    :param ciphertext_file: encrypted text is written to this file\n",
    "    \"\"\"\n",
    "    # creates cipher_alphabet\n",
    "    cipher_alphabet = caesar_cipher_alphabet(shift)\n",
    "\n",
    "    # calls the generic substitution_encrypt function which encrypts plaintext_file and writes to ciphertext_file\n",
    "    substitution_encrypt(plaintext_file, ciphertext_file, cipher_alphabet)\n"
   ]
  },
  {
   "cell_type": "code",
   "execution_count": null,
   "id": "fbddd612",
   "metadata": {},
   "outputs": [],
   "source": [
    "def caesar_decrypt(ciphertext_file, plaintext_file, shift):\n",
    "    \"\"\"\n",
    "    Reads cipher text file, decrypts using caesar cipher and writes to plaintext file\n",
    "\n",
    "    :param ciphertext_file: encrypted text to be read and decrypted\n",
    "    :param plaintext_file: plain text is written to this file\n",
    "    \"\"\"\n",
    "    # creates cipher_alphabet\n",
    "    cipher_alphabet = caesar_cipher_alphabet(shift)\n",
    "\n",
    "    # calls the generic substitution_decrypt function which decrypts ciphertext_file and writes to plaintext_file\n",
    "    substitution_decrypt(ciphertext_file, plaintext_file, cipher_alphabet)\n"
   ]
  }
 ],
 "metadata": {
  "kernelspec": {
   "display_name": "Python 3",
   "language": "python",
   "name": "python3"
  },
  "language_info": {
   "codemirror_mode": {
    "name": "ipython",
    "version": 3
   },
   "file_extension": ".py",
   "mimetype": "text/x-python",
   "name": "python",
   "nbconvert_exporter": "python",
   "pygments_lexer": "ipython3",
   "version": "3.12.1"
  }
 },
 "nbformat": 4,
 "nbformat_minor": 5
}
