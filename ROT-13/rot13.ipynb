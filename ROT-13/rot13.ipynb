{
 "cells": [
  {
   "cell_type": "code",
   "execution_count": 1,
   "id": "7676d0bc",
   "metadata": {},
   "outputs": [
    {
     "name": "stdout",
     "output_type": "stream",
     "text": [
      "Encrypted: Lipps, Asvph!\n",
      "Decrypted: Hello, World!\n"
     ]
    }
   ],
   "source": [
    "# run to get access to functions in generic_sub_ciphers.ipynb and caesar.ipynb (substitution_encrypt, substitution_decrypt, add_upper are ones that will be needed)\n",
    "%run ../Generic_Sub_Ciphers/generic_sub_ciphers.ipynb\n",
    "%run ../Caesar/caesar.ipynb"
   ]
  },
  {
   "cell_type": "code",
   "execution_count": null,
   "id": "546a6d70",
   "metadata": {},
   "outputs": [],
   "source": [
    "def rot13_cipher_alphabet():\n",
    "    \"\"\"\n",
    "    Returns the cipher alphabet for the ROT-13 cipher\n",
    "    \"\"\"\n",
    "    return (caesar_cipher_alphabet(13))"
   ]
  },
  {
   "cell_type": "code",
   "execution_count": null,
   "id": "44e3f452",
   "metadata": {},
   "outputs": [],
   "source": [
    "def rot13_encrypt(plaintext_file, ciphertext_file):\n",
    "    \"\"\"\n",
    "    Reads plaintext file, encrypts using atbash cipher and writes to cipher text file\n",
    "\n",
    "    :param plaintext_file: plaintext file to be read and encrypted\n",
    "    :param ciphertext_file: encrypted text is written to this file\n",
    "    \"\"\"\n",
    "    # creates cipher_alphabet\n",
    "    cipher_alphabet = rot13_cipher_alphabet()\n",
    "\n",
    "    # calls the generic substitution_encrypt function which encrypts plaintext_file and writes to ciphertext_file\n",
    "    substitution_encrypt(plaintext_file, ciphertext_file, cipher_alphabet)\n",
    "\n"
   ]
  },
  {
   "cell_type": "code",
   "execution_count": null,
   "id": "009a5a9b",
   "metadata": {},
   "outputs": [],
   "source": [
    "def rot13_decrypt(ciphertext_file, plaintext_file):\n",
    "    \"\"\"\n",
    "    Reads cipher text file, decrypts using atbash cipher and writes to plaintext file\n",
    "\n",
    "    :param ciphertext_file: encrypted text to be read and decrypted\n",
    "    :param plaintext_file: plain text is written to this file\n",
    "    \"\"\"\n",
    "    # creates cipher_alphabet\n",
    "    cipher_alphabet = rot13_cipher_alphabet()\n",
    "\n",
    "    # calls the generic substitution_decrypt function which decrypts ciphertext_file and writes to plaintext_file\n",
    "    substitution_decrypt(ciphertext_file, plaintext_file, cipher_alphabet)\n"
   ]
  }
 ],
 "metadata": {
  "kernelspec": {
   "display_name": "Python 3",
   "language": "python",
   "name": "python3"
  },
  "language_info": {
   "codemirror_mode": {
    "name": "ipython",
    "version": 3
   },
   "file_extension": ".py",
   "mimetype": "text/x-python",
   "name": "python",
   "nbconvert_exporter": "python",
   "pygments_lexer": "ipython3",
   "version": "3.12.1"
  }
 },
 "nbformat": 4,
 "nbformat_minor": 5
}
