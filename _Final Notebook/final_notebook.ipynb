{
 "cells": [
  {
   "cell_type": "markdown",
   "id": "ea086d00",
   "metadata": {},
   "source": [
    "### Final Jupyter Notebook"
   ]
  },
  {
   "cell_type": "code",
   "execution_count": null,
   "id": "18db8790",
   "metadata": {},
   "outputs": [],
   "source": [
    "# add any import statements here\n",
    "import sys\n",
    "import math"
   ]
  },
  {
   "cell_type": "markdown",
   "id": "71e00fe0",
   "metadata": {},
   "source": [
    "### Generic Cipher Functions"
   ]
  },
  {
   "cell_type": "code",
   "execution_count": null,
   "id": "8c7830b6",
   "metadata": {},
   "outputs": [],
   "source": [
    "def lowercase_dictionary_letters(letter_dictionary):\n",
    "    \"\"\"\n",
    "    Makes the letters of a dictionary lowercase. Used to ensure cipher_alphabet is lowercase before error checking\n",
    "    and that the user doesn't give uppercase letters in substitute_letter(sub_letters)\n",
    "    \n",
    "    :param letter_dictionary: dictionary with letters\n",
    "    \"\"\"\n",
    "    letter_dictionary_lower = {}\n",
    "\n",
    "    # ensures cipher_alphabet is lowercase\n",
    "    for key, value in letter_dictionary.items():\n",
    "        letter_dictionary_lower[key.lower()] = value.lower()\n",
    "\n",
    "    return letter_dictionary_lower\n"
   ]
  },
  {
   "cell_type": "code",
   "execution_count": null,
   "id": "98bc583d",
   "metadata": {},
   "outputs": [],
   "source": [
    "def substitute_letters_key(sub_letters):\n",
    "    \"\"\"\n",
    "    Creates a cipher alphabet where only the letter pairs in sub_letters are substituted\n",
    "\n",
    "    :param sub_letters: dictionary of letters you want to substitute: key is a letter, value is the letter you want to substitute the key letter with\n",
    "    \"\"\"\n",
    "    alphabet = \"abcdefghijklmnopqrstuvwxyz\"\n",
    "    cipher_alphabet = {}\n",
    "    \n",
    "    # ensures the letters of sub_letters are lowercase\n",
    "    sub_letters = lowercase_dictionary_letters(sub_letters)\n",
    "\n",
    "    # creates cipher_alphabet by checking if letter of alphabet is a key in sub_letters and adds it's sub value if it is\n",
    "    # if not, assigns the substitution letter as itself\n",
    "    for letter in alphabet:\n",
    "        if letter in sub_letters.keys():\n",
    "            cipher_alphabet[letter] = sub_letters[letter]\n",
    "        else:\n",
    "            cipher_alphabet[letter] = letter\n",
    "    \n",
    "    return cipher_alphabet\n"
   ]
  },
  {
   "cell_type": "code",
   "execution_count": null,
   "id": "6a67094d",
   "metadata": {},
   "outputs": [],
   "source": [
    "def error_checking(cipher_alphabet):\n",
    "    \"\"\"\n",
    "    Checks for errors in the cipher_alphabet by ensuring all the letters of the alphabet are in both the keys and values of the dictionary\n",
    "    \n",
    "    :param cipher_alphabet: a dictionary of key value letter pairs used to encrypt or decrypt text\n",
    "    \"\"\"\n",
    "    alphabet = \"abcdefghijklmnopqrstuvwxyz\"\n",
    "\n",
    "    # ensures length of cipher_alphabet is 26\n",
    "    if len(cipher_alphabet) != 26:\n",
    "        sys.exit(\"The cipher alphabet is invalid\")\n",
    "\n",
    "    # ensures all letters in alphabet are present in both the keys and values of cipher_alphabet\n",
    "    for letter in alphabet:\n",
    "         if letter not in cipher_alphabet.keys() or letter not in cipher_alphabet.values():\n",
    "            sys.exit(\"The cipher alphabet is invalid\")\n"
   ]
  },
  {
   "cell_type": "code",
   "execution_count": null,
   "id": "4397afc9",
   "metadata": {},
   "outputs": [],
   "source": [
    "def encryption_decryption(read_file, cipher_alphabet):\n",
    "    \"\"\"\n",
    "    Either encrypts or decrypts read_file depending on the text it contains and the provided cipher_alphabet\n",
    "    \n",
    "    :param read_file: file that is read containing either encrypted or decrypted text\n",
    "    :cipher_alphabet: dictionary of alphabetic key value pairs used in either the encryption or decryption\n",
    "    \"\"\"\n",
    "    encrypt_decrypt_text = \"\"\n",
    "\n",
    "# loops through each line and either encrypts or decrypts each alphabetic character while skipping non-alphabetic characters, and while checking for and preserving case\n",
    "    for line in read_file:\n",
    "        for character in line:\n",
    "            if character.islower() and character in cipher_alphabet.keys():\n",
    "                encrypt_decrypt_text += cipher_alphabet[character]\n",
    "            elif character.isupper() and character.lower() in cipher_alphabet:\n",
    "                encrypt_decrypt_text += cipher_alphabet[character.lower()].upper()\n",
    "            else:\n",
    "                encrypt_decrypt_text += character\n",
    "    \n",
    "    return encrypt_decrypt_text\n"
   ]
  },
  {
   "cell_type": "code",
   "execution_count": null,
   "id": "31326627",
   "metadata": {},
   "outputs": [],
   "source": [
    "def substitution_encrypt(plaintext_file, ciphertext_file, cipher_alphabet):\n",
    "    \"\"\"\n",
    "    Reads a plain text file, encrypts it using the provided cipher alphabet, and writes it to a ciphertext file\n",
    "\n",
    "    :param plantext_file: plaintext file to be read and encrypted\n",
    "    :param ciphertext_file: encrypted text is written to this file\n",
    "    :param cipher_alphabet: dictionary containing the alphabet as keys and the substitution letter as each value\n",
    "    \"\"\"\n",
    "    # ensures cipher_alphabet letters are lowercase\n",
    "    cipher_alphabet = lowercase_dictionary_letters(cipher_alphabet)\n",
    "\n",
    "    # checks for errors in cipher_alphabet\n",
    "    error_checking(cipher_alphabet)\n",
    "\n",
    "    # opens plantext_file\n",
    "    with open(plaintext_file) as read_file:\n",
    "\n",
    "        # calls encryption_decryption function and saves output to encrypted_text\n",
    "        encrypted_text = encryption_decryption(read_file,cipher_alphabet)\n",
    "\n",
    "        # appends the encrypted text to file\n",
    "        with open(ciphertext_file, 'w') as write_file:\n",
    "            write_file.write(encrypted_text)\n"
   ]
  },
  {
   "cell_type": "code",
   "execution_count": null,
   "id": "8a8847b4",
   "metadata": {},
   "outputs": [],
   "source": [
    "def substitution_decrypt(ciphertext_file, plaintext_file, cipher_alphabet):\n",
    "    \"\"\"\n",
    "    Reads a ciphertext file, decrypts it using the provided cipher alphabet, and writes it to a plantext file\n",
    "\n",
    "    :param ciphertext_file: encrypted text to be read and decrypted\n",
    "    :param plantext_file: plain text is written to this file\n",
    "    :param cipher_alphabet: dictionary containing the alphabet as keys and the substitution letter as each value\n",
    "    \"\"\"\n",
    "    reverse_cipher_alphabet = {}\n",
    "\n",
    "    # ensures cipher_alphabet letters are lowercase\n",
    "    cipher_alphabet = lowercase_dictionary_letters(cipher_alphabet)\n",
    "\n",
    "    # checks for errors in cipher_alphabet\n",
    "    error_checking(cipher_alphabet)\n",
    "\n",
    "    # opens plantext_file\n",
    "    with open(ciphertext_file) as read_file:\n",
    "        \n",
    "        # reverses cipher_alphabet keys and values to switch to decryption\n",
    "        for key in cipher_alphabet:\n",
    "            reverse_cipher_alphabet[cipher_alphabet[key]] = key\n",
    "\n",
    "        # calls encryption_decryption function and saves output to decrypted_text\n",
    "        decrypted_text = encryption_decryption(read_file,reverse_cipher_alphabet)\n",
    "\n",
    "        # appends the decrypted text to file\n",
    "        with open(plaintext_file, 'w') as write_file:\n",
    "            write_file.write(decrypted_text)\n"
   ]
  },
  {
   "cell_type": "markdown",
   "id": "98d17e3a",
   "metadata": {},
   "source": [
    "### Keyword Cipher Functions"
   ]
  },
  {
   "cell_type": "code",
   "execution_count": null,
   "id": "8877f456",
   "metadata": {},
   "outputs": [],
   "source": []
  },
  {
   "cell_type": "markdown",
   "id": "b3d729d1",
   "metadata": {},
   "source": [
    "### Caesar Cipher Functions"
   ]
  },
  {
   "cell_type": "code",
   "execution_count": null,
   "id": "9c7e5ebb",
   "metadata": {},
   "outputs": [],
   "source": []
  },
  {
   "cell_type": "markdown",
   "id": "19465afb",
   "metadata": {},
   "source": [
    "### ROT-13 Cipher Functions"
   ]
  },
  {
   "cell_type": "code",
   "execution_count": null,
   "id": "64dcc11e",
   "metadata": {},
   "outputs": [],
   "source": []
  },
  {
   "cell_type": "markdown",
   "id": "8beec201",
   "metadata": {},
   "source": [
    "### Atbash Cipher Functions"
   ]
  },
  {
   "cell_type": "code",
   "execution_count": null,
   "id": "601f8a4f",
   "metadata": {},
   "outputs": [],
   "source": []
  },
  {
   "cell_type": "markdown",
   "id": "1677f087",
   "metadata": {},
   "source": [
    "### Affine Cipher Functions"
   ]
  },
  {
   "cell_type": "code",
   "execution_count": null,
   "id": "d1801267",
   "metadata": {},
   "outputs": [],
   "source": [
    "def coprime_check(a):\n",
    "    \"\"\"\n",
    "    Checks if a is coprime with the length of the alphabet\n",
    "\n",
    "    :param a: plugged into cipher formula (ax+b)mod m, a must be coprime with m which represents the length of the alphabet \n",
    "    \"\"\"\n",
    "    if math.gcd(a,26) != 1:\n",
    "        sys.exit(\"a is invalid, it is not a coprime of 26\")"
   ]
  },
  {
   "cell_type": "code",
   "execution_count": 3,
   "id": "7ea75416",
   "metadata": {},
   "outputs": [],
   "source": [
    "def indexed_alphabet():\n",
    "    \"\"\"\n",
    "    Creates the cipher_alphabet for the affine cipher\n",
    "\n",
    "    :param a: plugged into cipher formula (ax+b)mod m\n",
    "    :param b: plugged into cipher formula (ax+b)mod m\n",
    "    \"\"\"\n",
    "    alphabet = \"abcdefghijklmnopqrstuvwxyz\"\n",
    "    indexed_alphabet = {}\n",
    "\n",
    "    # loops through alphabet and assigns each index key an index as a value \n",
    "    for index in range(len(alphabet)): \n",
    "        indexed_alphabet[index] = alphabet[index]\n",
    "    \n",
    "    return indexed_alphabet\n",
    "\n"
   ]
  },
  {
   "cell_type": "code",
   "execution_count": null,
   "id": "7a6bf4ae",
   "metadata": {},
   "outputs": [],
   "source": [
    "def affine_encrypt(plaintext_file, ciphertext_file, a, b):\n",
    "    \"\"\"\n",
    "    Reads plaintext file encrypts using affine cipher and writes to cipher text file\n",
    "\n",
    "    :param plaintext_file: plaintext file to be read and encrypted\n",
    "    :param ciphertext_file: encrypted text is written to this file\n",
    "    :param a: plugged into cipher formula (ax+b)mod m, a must be coprime with m which represents the length of the alphabet \n",
    "    :param b: plugged into cipher formula (ax+b)mod m\n",
    "    \"\"\"\n",
    "    cipher_alphabet = {}\n",
    "    new_indexed_alphabet = {}\n",
    "\n",
    "    # checks if a and m, which in this case is the lenth of the alphabet (26), are coprime\n",
    "    coprime_check(a)\n",
    "\n",
    "    # key is index, value is letter\n",
    "    indexed_alphabet = indexed_alphabet()\n",
    "\n",
    "    # loops through each item in indexed_alphabet and simultaneously creates new_index_alphabet with letter keys mapping to affine encryption formula integer values\n",
    "    # and maps each letter to the letter that corresponds to the affine encryption formula integer values in the indexed_alphabet\n",
    "    #\n",
    "    # example flow: index = 0, letter = 'a', new_indexed_alphabet['a'] = 8 (example forumla output), cipher alphabet['a'] = indexed_alphabet[8] (which retrieves 'i'). cipher_alphabet {'a':'i'}\n",
    "    for index, letter in indexed_alphabet.items():\n",
    "        new_indexed_alphabet[letter] = (a*index + b) % len(indexed_alphabet)\n",
    "        cipher_alphabet[letter] = indexed_alphabet[new_indexed_alphabet[letter]]\n",
    "    \n",
    "    # calls the generic substitution_encrypt function which encrypts plaintext_file and writes to ciphertext_file\n",
    "    substitution_encrypt(plaintext_file, ciphertext_file, cipher_alphabet)\n"
   ]
  },
  {
   "cell_type": "code",
   "execution_count": null,
   "id": "06619c16",
   "metadata": {},
   "outputs": [],
   "source": [
    "def affine_decrypt(ciphertext_file, plaintext_file, a, b):    \n",
    "    \"\"\"\n",
    "    Reads plaintext file decrypts using affine cipher and writes to cipher text file\n",
    "\n",
    "    :param plaintext_file: plaintext file to be read and encrypted\n",
    "    :param ciphertext_file: encrypted text is written to this file\n",
    "    :param a: plugged into cipher formula (ax+b)mod m, a must be coprime with m which represnts the  \n",
    "    :param b: plugged into cipher formula (ax+b)mod m\n",
    "    \"\"\"\n",
    "    new_indexed_alphabet = {}\n",
    "    cipher_alphabet = {}\n",
    "\n",
    "    # checks if a and m, which in this case is the lenth of the alphabet (26), are coprime\n",
    "    coprime_check(a)\n",
    "    \n",
    "    # key is index, value is letter\n",
    "    indexed_alphabet = indexed_alphabet()\n",
    "\n",
    "    # loops through each item in indexed_alphabet saving the affine decryption formula output to new_index then simultaneously creates new_index_alphabet with the formula \n",
    "    # output integer as a key and the letter as a value and maps each letters in indexed_alphabet to letters in new_indexed_alphabet that share the same index as new_index\n",
    "    #\n",
    "    # example flow: index = 0, letter = 'a', new_index = 14 (example formula output), new_indexed_alphabet[14] = 'a',\n",
    "    # cipher alphabet[indexed_alphabet[14] (which retrives 'o')] = new_indexed_alphabet[14] (which retrieves 'a'). cipher_alphabet = {'o':'a'}\n",
    "    for index, letter in indexed_alphabet.items():\n",
    "        new_index = pow(a, -1, len(indexed_alphabet))*(index - b) % len(indexed_alphabet)\n",
    "        new_indexed_alphabet[new_index] = letter\n",
    "        cipher_alphabet[indexed_alphabet[new_index]] = new_indexed_alphabet[new_index]\n",
    "\n",
    "    substitution_decrypt(ciphertext_file, plaintext_file, cipher_alphabet)"
   ]
  }
 ],
 "metadata": {
  "kernelspec": {
   "display_name": "Python 3",
   "language": "python",
   "name": "python3"
  },
  "language_info": {
   "codemirror_mode": {
    "name": "ipython",
    "version": 3
   },
   "file_extension": ".py",
   "mimetype": "text/x-python",
   "name": "python",
   "nbconvert_exporter": "python",
   "pygments_lexer": "ipython3",
   "version": "3.12.1"
  }
 },
 "nbformat": 4,
 "nbformat_minor": 5
}
