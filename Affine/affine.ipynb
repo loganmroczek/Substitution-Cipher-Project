{
 "cells": [
  {
   "cell_type": "code",
   "execution_count": 30,
   "id": "e59e6564",
   "metadata": {},
   "outputs": [],
   "source": [
    "# run to get access to functions in generic_sub_ciphers.ipynb (substitution_encrypt, substitution_decrypt, add_upper are ones that will be needed)\n",
    "%run ../Generic_Sub_Ciphers/generic_sub_ciphers.ipynb"
   ]
  },
  {
   "cell_type": "code",
   "execution_count": 31,
   "id": "b2cf961e",
   "metadata": {},
   "outputs": [],
   "source": [
    "import sys\n",
    "import math"
   ]
  },
  {
   "cell_type": "code",
   "execution_count": 32,
   "id": "5544dd14",
   "metadata": {},
   "outputs": [],
   "source": [
    "def coprime_check(a):\n",
    "    \"\"\"\n",
    "    Checks if a is coprime with the length of the alphabet\n",
    "\n",
    "    :param a: plugged into cipher formula (ax+b)mod m, a must be coprime with m which represents the length of the alphabet \n",
    "    \"\"\"\n",
    "    if math.gcd(a,26) != 1:\n",
    "        sys.exit(\"a is invalid, it is not a coprime of 26\")\n"
   ]
  },
  {
   "cell_type": "code",
   "execution_count": null,
   "id": "3651a4e5",
   "metadata": {},
   "outputs": [],
   "source": [
    "def generate_indexed_alphabet():\n",
    "    \"\"\"\n",
    "    Creates an indexed alphabet for affine cipher\n",
    "\n",
    "    :param a: plugged into cipher formula (ax+b)mod m\n",
    "    :param b: plugged into cipher formula (ax+b)mod m\n",
    "    \"\"\"\n",
    "    alphabet = \"abcdefghijklmnopqrstuvwxyz\"\n",
    "    indexed_alphabet = {}\n",
    "\n",
    "    # loops through alphabet and assigns each index key an index as a value \n",
    "    for index in range(len(alphabet)): \n",
    "        indexed_alphabet[index] = alphabet[index]\n",
    "    \n",
    "    return indexed_alphabet\n"
   ]
  },
  {
   "cell_type": "code",
   "execution_count": null,
   "id": "3200de59",
   "metadata": {},
   "outputs": [],
   "source": [
    "generate_indexed_alphabet()"
   ]
  },
  {
   "cell_type": "code",
   "execution_count": null,
   "id": "159b6415",
   "metadata": {},
   "outputs": [],
   "source": [
    "def affine_encrypt(plaintext_file, ciphertext_file, a, b):\n",
    "    \"\"\"\n",
    "    Reads plaintext file encrypts using affine cipher and writes to cipher text file\n",
    "\n",
    "    :param plaintext_file: plaintext file to be read and encrypted\n",
    "    :param ciphertext_file: encrypted text is written to this file\n",
    "    :param a: plugged into cipher formula (ax+b)mod m, a must be coprime with m which represents the length of the alphabet \n",
    "    :param b: plugged into cipher formula (ax+b)mod m\n",
    "    \"\"\"\n",
    "    cipher_alphabet = {}\n",
    "    new_indexed_alphabet = {}\n",
    "    indexed_alphabet = \"\"\n",
    "\n",
    "    # checks if a and m, which in this case is the lenth of the alphabet (26), are coprime\n",
    "    coprime_check(a)\n",
    "\n",
    "    # key is index, value is letter\n",
    "    indexed_alphabet = generate_indexed_alphabet()\n",
    "\n",
    "    # loops through each item in indexed_alphabet and simultaneously creates new_index_alphabet with letter keys mapping to affine encryption formula integer values\n",
    "    # and maps each letter to the letter that corresponds to the affine encryption formula integer values in the indexed_alphabet\n",
    "    #\n",
    "    # example flow: index = 0, letter = 'a', new_indexed_alphabet['a'] = 8 (example forumla output), cipher alphabet['a'] = indexed_alphabet[8] (which retrieves 'i'). cipher_alphabet {'a':'i'}\n",
    "    for index, letter in indexed_alphabet.items():\n",
    "        new_indexed_alphabet[letter] = (a*index + b) % len(indexed_alphabet)\n",
    "        cipher_alphabet[letter] = indexed_alphabet[new_indexed_alphabet[letter]]\n",
    "    \n",
    "    # calls the generic substitution_encrypt function which encrypts plaintext_file and writes to ciphertext_file\n",
    "    substitution_encrypt(plaintext_file, ciphertext_file, cipher_alphabet)\n",
    "\n"
   ]
  },
  {
   "cell_type": "code",
   "execution_count": 48,
   "id": "3893fed8",
   "metadata": {},
   "outputs": [],
   "source": [
    "affine_encrypt('plaintext_test.txt', 'ciphertext_test.txt', 5, 8)"
   ]
  },
  {
   "cell_type": "code",
   "execution_count": null,
   "id": "98080816",
   "metadata": {},
   "outputs": [],
   "source": [
    "def affine_decrypt(ciphertext_file, plaintext_file, a, b):    \n",
    "    \"\"\"\n",
    "    Reads plaintext file decrypts using affine cipher and writes to cipher text file\n",
    "\n",
    "    :param plaintext_file: plaintext file to be read and encrypted\n",
    "    :param ciphertext_file: encrypted text is written to this file\n",
    "    :param a: plugged into cipher formula (ax+b)mod m, a must be coprime with m which represnts the  \n",
    "    :param b: plugged into cipher formula (ax+b)mod m\n",
    "    \"\"\"\n",
    "    cipher_alphabet = {}\n",
    "\n",
    "    # checks if a and m, which in this case is the lenth of the alphabet (26), are coprime\n",
    "    coprime_check(a)\n",
    "    \n",
    "    # key is index, value is letter\n",
    "    indexed_alphabet = generate_indexed_alphabet()\n",
    "\n",
    "    # loops through each item in indexed_alphabet saving the affine decryption formula output to new_index and simultaneously creates new_index_alphabet with output integers as keys\n",
    "    # and the letter as a value and maps each letters in indexed_alphabet to letters in new_indexed_alphabet that share the same index as new_index\n",
    "    #\n",
    "    # example flow: index = 0, letter = 'a', new_index = 14 (example formula output), cipher alphabet[indexed_alphabet[14] (which retrieves 'o')] = 'a'. cipher_alphabet = {'o':'a'}\n",
    "    for index, letter in indexed_alphabet.items():\n",
    "        new_index = pow(a, -1, len(indexed_alphabet))*(index - b) % len(indexed_alphabet)\n",
    "        cipher_alphabet[indexed_alphabet[new_index]] = letter\n",
    "    \n",
    "    substitution_decrypt(ciphertext_file, plaintext_file, cipher_alphabet)\n",
    "    "
   ]
  },
  {
   "cell_type": "code",
   "execution_count": 54,
   "id": "0b3934b1",
   "metadata": {},
   "outputs": [],
   "source": [
    "affine_decrypt('ciphertext_test.txt', 'test_decrypted.txt', 5, 8)"
   ]
  },
  {
   "cell_type": "code",
   "execution_count": 39,
   "id": "af333990",
   "metadata": {},
   "outputs": [],
   "source": [
    "# def affine_cipher_alphabet(a,b):\n",
    "#     \"\"\"\n",
    "#     Creates the cipher_alphabet for the affine cipher\n",
    "\n",
    "#     :param a: plugged into cipher formula (ax+b)mod m, a must be coprime with m which represents the length of the alphabet \n",
    "#     :param b: plugged into cipher formula (ax+b)mod m\n",
    "#     \"\"\"\n",
    "#     alphabet = \"abcdefghijklmnopqrstuvwxyz\"\n",
    "#     indexed_alphabet = {}\n",
    "#     cipher_alphabet = {}\n",
    "#     new_indexed_alphabet = {}\n",
    "\n",
    "#     # loops through alphabet and assigns each letter key an index as a value \n",
    "#     for index in range(len(alphabet)): \n",
    "#         indexed_alphabet[alphabet[index]] = index\n",
    "\n",
    "#     # runs indexed_alphabet through affine cipher formula and saves them as cipher_alphabet\n",
    "#     for key in indexed_alphabet:\n",
    "#         new_indexed_alphabet[key] = (a*indexed_alphabet[key] + b) % len(indexed_alphabet)\n",
    "    \n",
    "#     # reverses indexed_alpabet so cipher_alphabet keys and reverse_indexed_alphabet values are letters, making them easier to map together\n",
    "#     reverse_indexed_alphabet = reverse_cipher(indexed_alphabet)\n",
    "\n",
    "#     # maps cipher_alphabet keys to reverse_indexed_alphabet values to form 1 to 1 letter key-value pairs\n",
    "#     for key in cipher_alphabet:\n",
    "#         cipher_alphabet[key] = reverse_indexed_alphabet[new_indexed_alphabet[key]]\n",
    "\n",
    "#     # return cipher_alphabet\n",
    "#     # return indexed_alphabet\n",
    "\n",
    "#     print(cipher_alphabet)\n",
    "#     print(new_indexed_alphabet)\n",
    "#     print(indexed_alphabet)\n",
    "#     print(reverse_indexed_alphabet)\n"
   ]
  },
  {
   "cell_type": "code",
   "execution_count": 40,
   "id": "a80a5e2c",
   "metadata": {},
   "outputs": [],
   "source": [
    "# affine_cipher_alphabet(5,8)"
   ]
  },
  {
   "cell_type": "code",
   "execution_count": 41,
   "id": "bbb937cb",
   "metadata": {},
   "outputs": [],
   "source": [
    "# def affine_decrypt(ciphertext_file, plaintext_file, a, b):\n",
    "#     \"\"\"\n",
    "#     Reads plaintext file encrypts using affine cipher and writes to cipher text file\n",
    "\n",
    "#     :param plaintext_file: plaintext file to be read and encrypted\n",
    "#     :param ciphertext_file: encrypted text is written to this file\n",
    "#     :param a: plugged into cipher formula (ax+b)mod m, a must be coprime with m which represnts the  \n",
    "#     :param b: plugged into cipher formula (ax+b)mod m\n",
    "#     \"\"\"\n",
    "#     # creates cipher_alphabet\n",
    "#     cipher_alphabet = affine_cipher_alphabet(a,b)\n",
    "\n",
    "#     # checks if a and m, which means len(cipher_alphabet), are coprime\n",
    "#     coprime_check(a,cipher_alphabet)\n",
    "    \n",
    "#     # calls the generic substitution_encrypt function which encrypts plaintext_file and writes to ciphertext_file\n",
    "#     substitution_decrypt(ciphertext_file, plaintext_file, cipher_alphabet)"
   ]
  },
  {
   "cell_type": "code",
   "execution_count": 42,
   "id": "0df17a12",
   "metadata": {},
   "outputs": [],
   "source": [
    "# affine_decrypt_v1('liquid_encrypted.txt', 'liquid_decrypted.txt', 5, 8)"
   ]
  },
  {
   "cell_type": "code",
   "execution_count": 43,
   "id": "5c5109c4",
   "metadata": {},
   "outputs": [],
   "source": [
    "# def affine_decrypt_v1(ciphertext_file, plaintext_file, a, b):    \n",
    "#     \"\"\"\n",
    "#     Reads plaintext file decrypts using affine cipher and writes to cipher text file\n",
    "\n",
    "#     :param plaintext_file: plaintext file to be read and encrypted\n",
    "#     :param ciphertext_file: encrypted text is written to this file\n",
    "#     :param a: plugged into cipher formula (ax+b)mod m, a must be coprime with m which represnts the  \n",
    "#     :param b: plugged into cipher formula (ax+b)mod m\n",
    "#     \"\"\"\n",
    "#     new_indexed_alphabet = {}\n",
    "#     cipher_alphabet = {}\n",
    "\n",
    "#     # key is index, value is letter\n",
    "#     indexed_alphabet = affine_indexed_alphabet(a,b)\n",
    "\n",
    "#     #\n",
    "#     coprime_check(a)\n",
    "\n",
    "#     for key in indexed_alphabet:\n",
    "#         new_indexed_alphabet[key] = pow(a, -1, len(indexed_alphabet))*(indexed_alphabet[key] - b) % len(indexed_alphabet)\n",
    "    \n",
    "#     reverse_new_indexed_alphabet = reverse_cipher(new_indexed_alphabet)\n",
    "\n",
    "#     for key in indexed_alphabet:\n",
    "#         cipher_alphabet[key] = reverse_new_indexed_alphabet[indexed_alphabet[key]]\n",
    "\n",
    "#     # substitution_decrypt(ciphertext_file, plaintext_file, cipher_alphabet)\n",
    "\n",
    "#     print(cipher_alphabet)\n",
    "#     print(indexed_alphabet)\n",
    "#     print(new_indexed_alphabet)\n",
    "#     print(reverse_new_indexed_alphabet)\n",
    "\n"
   ]
  },
  {
   "cell_type": "code",
   "execution_count": 44,
   "id": "88253934",
   "metadata": {},
   "outputs": [],
   "source": [
    "# affine_decrypt_v1('liquid_encrypted.txt', 'liquid_decrypted.txt', 5, 8)"
   ]
  }
 ],
 "metadata": {
  "kernelspec": {
   "display_name": "Python 3",
   "language": "python",
   "name": "python3"
  },
  "language_info": {
   "codemirror_mode": {
    "name": "ipython",
    "version": 3
   },
   "file_extension": ".py",
   "mimetype": "text/x-python",
   "name": "python",
   "nbconvert_exporter": "python",
   "pygments_lexer": "ipython3",
   "version": "3.12.1"
  }
 },
 "nbformat": 4,
 "nbformat_minor": 5
}
