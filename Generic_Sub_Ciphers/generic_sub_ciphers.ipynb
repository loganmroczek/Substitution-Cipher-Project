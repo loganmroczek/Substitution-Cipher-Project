{
 "cells": [
  {
   "cell_type": "code",
   "execution_count": 7,
   "id": "631a37c4",
   "metadata": {},
   "outputs": [],
   "source": [
    "import sys"
   ]
  },
  {
   "cell_type": "code",
   "execution_count": null,
   "id": "fe558f86",
   "metadata": {},
   "outputs": [],
   "source": [
    "def lowercase_dictionary_letters(letter_dictionary):\n",
    "    \"\"\"\n",
    "    Makes the letters of a dictionary lowercase. Used to ensure cipher_alphabet is lowercase before error checking\n",
    "    and that the user doesn't give uppercase letters in substitute_letter(sub_letters)\n",
    "    \n",
    "    :param letter_dictionary: dictionary with letters\n",
    "    \"\"\"\n",
    "    letter_dictionary_lower = {}\n",
    "\n",
    "    # ensures cipher_alphabet is lowercase\n",
    "    for key, value in letter_dictionary.items():\n",
    "        letter_dictionary_lower[key.lower()] = value.lower()\n",
    "\n",
    "    return letter_dictionary_lower\n"
   ]
  },
  {
   "cell_type": "code",
   "execution_count": null,
   "id": "9e215ed4",
   "metadata": {},
   "outputs": [],
   "source": [
    "def substitute_letters_key(sub_letters):\n",
    "    \"\"\"\n",
    "    Creates a cipher alphabet where only the letter pairs in sub_letters are substituted\n",
    "\n",
    "    :param sub_letters: dictionary of letters you want to substitute: key is a letter, value is the letter you want to substitute the key letter with\n",
    "    \"\"\"\n",
    "    alphabet = \"abcdefghijklmnopqrstuvwxyz\"\n",
    "    cipher_alphabet = {}\n",
    "    \n",
    "    # ensures the letters of sub_letters are lowercase\n",
    "    sub_letters = lowercase_dictionary_letters(sub_letters)\n",
    "\n",
    "    # creates cipher_alphabet by checking if letter of alphabet is a key in sub_letters and adds it's sub value if it is\n",
    "    # if not, assigns the substitution letter as itself\n",
    "    for letter in alphabet:\n",
    "        if letter in sub_letters.keys():\n",
    "            cipher_alphabet[letter] = sub_letters[letter]\n",
    "        else:\n",
    "            cipher_alphabet[letter] = letter\n",
    "    \n",
    "    return cipher_alphabet\n"
   ]
  },
  {
   "cell_type": "code",
   "execution_count": null,
   "id": "0acb6175",
   "metadata": {},
   "outputs": [],
   "source": [
    "sub_letters = {'A':'B', 'B':'A'}\n",
    "substitute_letters_key(sub_letters)"
   ]
  },
  {
   "cell_type": "code",
   "execution_count": null,
   "id": "0b935505",
   "metadata": {},
   "outputs": [],
   "source": [
    "def error_checking(cipher_alphabet):\n",
    "    \"\"\"\n",
    "    Checks for errors in the cipher_alphabet by ensuring all the letters of the alphabet are in both the keys and values of the dictionary\n",
    "    \n",
    "    :param cipher_alphabet: a dictionary of key value letter pairs used to encrypt or decrypt text\n",
    "    \"\"\"\n",
    "    alphabet = \"abcdefghijklmnopqrstuvwxyz\"\n",
    "\n",
    "    # ensures length of cipher_alphabet is 26\n",
    "    if len(cipher_alphabet) != 26:\n",
    "        sys.exit(\"The cipher alphabet is invalid\")\n",
    "\n",
    "    # ensures all letters in alphabet are present in both the keys and values of cipher_alphabet\n",
    "    for letter in alphabet:\n",
    "         if letter not in cipher_alphabet.keys() or letter not in cipher_alphabet.values():\n",
    "            sys.exit(\"The cipher alphabet is invalid\")\n"
   ]
  },
  {
   "cell_type": "code",
   "execution_count": null,
   "id": "5ffca54d",
   "metadata": {},
   "outputs": [],
   "source": [
    "def encryption_decryption(read_file, cipher_alphabet):\n",
    "    \"\"\"\n",
    "    Either encrypts or decrypts read_file depending on the text it contains and the provided cipher_alphabet\n",
    "    \n",
    "    :param read_file: file that is read containing either encrypted or decrypted text\n",
    "    :cipher_alphabet: dictionary of alphabetic key value pairs used in either the encryption or decryption\n",
    "    \"\"\"\n",
    "    encrypt_decrypt_text = \"\"\n",
    "\n",
    "# loops through each line and either encrypts or decrypts each alphabetic character while skipping non-alphabetic characters, and while checking for and preserving case\n",
    "    for line in read_file:\n",
    "        for character in line:\n",
    "            if character.islower() and character in cipher_alphabet.keys():\n",
    "                encrypt_decrypt_text += cipher_alphabet[character]\n",
    "            elif character.isupper() and character.lower() in cipher_alphabet:\n",
    "                encrypt_decrypt_text += cipher_alphabet[character.lower()].upper()\n",
    "            else:\n",
    "                encrypt_decrypt_text += character\n",
    "    \n",
    "    return encrypt_decrypt_text\n"
   ]
  },
  {
   "cell_type": "code",
   "execution_count": null,
   "id": "b83fb3eb",
   "metadata": {},
   "outputs": [],
   "source": [
    "def substitution_encrypt(plaintext_file, ciphertext_file, cipher_alphabet):\n",
    "    \"\"\"\n",
    "    Reads a plain text file, encrypts it using the provided cipher alphabet, and writes it to a ciphertext file\n",
    "\n",
    "    :param plantext_file: plaintext file to be read and encrypted\n",
    "    :param ciphertext_file: encrypted text is written to this file\n",
    "    :param cipher_alphabet: dictionary containing the alphabet as keys and the substitution letter as each value\n",
    "    \"\"\"\n",
    "    # ensures cipher_alphabet letters are lowercase\n",
    "    cipher_alphabet = lowercase_dictionary_letters(cipher_alphabet)\n",
    "\n",
    "    # checks for errors in cipher_alphabet\n",
    "    error_checking(cipher_alphabet)\n",
    "\n",
    "    # opens plantext_file\n",
    "    with open(plaintext_file) as read_file:\n",
    "\n",
    "        # calls encryption_decryption function and saves output to encrypted_text\n",
    "        encrypted_text = encryption_decryption(read_file,cipher_alphabet)\n",
    "\n",
    "        # appends the encrypted text to file\n",
    "        with open(ciphertext_file, 'w') as write_file:\n",
    "            write_file.write(encrypted_text)\n"
   ]
  },
  {
   "cell_type": "code",
   "execution_count": null,
   "id": "d34b8299",
   "metadata": {},
   "outputs": [],
   "source": [
    "def substitution_decrypt(ciphertext_file, plaintext_file, cipher_alphabet):\n",
    "    \"\"\"\n",
    "    Reads a ciphertext file, decrypts it using the provided cipher alphabet, and writes it to a plantext file\n",
    "\n",
    "    :param ciphertext_file: encrypted text to be read and decrypted\n",
    "    :param plantext_file: plain text is written to this file\n",
    "    :param cipher_alphabet: dictionary containing the alphabet as keys and the substitution letter as each value\n",
    "    \"\"\"\n",
    "    reverse_cipher_alphabet = {}\n",
    "\n",
    "    # ensures cipher_alphabet letters are lowercase\n",
    "    cipher_alphabet = lowercase_dictionary_letters(cipher_alphabet)\n",
    "\n",
    "    # checks for errors in cipher_alphabet\n",
    "    error_checking(cipher_alphabet)\n",
    "\n",
    "    # opens plantext_file\n",
    "    with open(ciphertext_file) as read_file:\n",
    "        \n",
    "        # reverses cipher_alphabet keys and values to switch to decryption\n",
    "        for key in cipher_alphabet:\n",
    "            reverse_cipher_alphabet[cipher_alphabet[key]] = key\n",
    "\n",
    "        # calls encryption_decryption function and saves output to decrypted_text\n",
    "        decrypted_text = encryption_decryption(read_file,reverse_cipher_alphabet)\n",
    "\n",
    "        # appends the decrypted text to file\n",
    "        with open(plaintext_file, 'w') as write_file:\n",
    "            write_file.write(decrypted_text)\n"
   ]
  },
  {
   "cell_type": "code",
   "execution_count": null,
   "id": "dee2e188",
   "metadata": {},
   "outputs": [],
   "source": [
    "# def add_upper(cipher_alphabet):\n",
    "#     \"\"\"\n",
    "#     Adds uppercase keys and values to the cipher_alphabet (only works for ciphers that both keys and values are alphabetic)\n",
    "\n",
    "#     :param cipher_alphabet: a dictionary of key value pairs used to encrypt or decrypt text\n",
    "#     \"\"\"\n",
    "#     new_cipher_alphabet = cipher_alphabet.copy()\n",
    "\n",
    "#     for key in cipher_alphabet:\n",
    "#         new_cipher_alphabet[key.upper()] = new_cipher_alphabet[key].upper()\n",
    "    \n",
    "#     return(new_cipher_alphabet)\n"
   ]
  }
 ],
 "metadata": {
  "kernelspec": {
   "display_name": "Python 3",
   "language": "python",
   "name": "python3"
  },
  "language_info": {
   "codemirror_mode": {
    "name": "ipython",
    "version": 3
   },
   "file_extension": ".py",
   "mimetype": "text/x-python",
   "name": "python",
   "nbconvert_exporter": "python",
   "pygments_lexer": "ipython3",
   "version": "3.12.1"
  }
 },
 "nbformat": 4,
 "nbformat_minor": 5
}
