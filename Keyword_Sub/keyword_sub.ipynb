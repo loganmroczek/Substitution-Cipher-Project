{
 "cells": [
  {
   "cell_type": "code",
   "execution_count": null,
   "id": "a7b7b7ff",
   "metadata": {},
   "outputs": [],
   "source": [
    "# run to get access to functions in generic_sub_ciphers.ipynb (substitution_encrypt, substitution_decrypt, add_upper are ones that will be needed)\n",
    "%run ../Generic_Sub_Ciphers/generic_sub_ciphers.ipynb"
   ]
  },
  {
   "cell_type": "code",
   "execution_count": 2,
   "id": "7bf48b50",
   "metadata": {},
   "outputs": [
    {
     "name": "stdout",
     "output_type": "stream",
     "text": [
      "Keyword: grandmother\n",
      "Plaintext: attack at dawn\n",
      "Encrypted: gssgab gs ngwi\n",
      "Decrypted: attack at dawn\n"
     ]
    }
   ],
   "source": [
    "def keyword_cipher_alphabet(keyword): \n",
    "    \n",
    "    \"\"\"\n",
    "    Returns a cipher_alphabet that starts with a keyword followed by the remaining letters in the alphabet\n",
    "\n",
    "    :param keyword: the keyword appended to the start of the cipher alphabet\n",
    "    \"\"\"\n",
    "    alphabet = \"abcdefghijklmnopqrstuvwxyz\"\n",
    "    letter_list = []\n",
    "    cipher_alphabet = {}\n",
    "\n",
    "    # Append unique letters of keyword first\n",
    "    for letter in keyword.lower():\n",
    "        if letter not in letter_list and letter in alphabet:\n",
    "            letter_list.append(letter)\n",
    "\n",
    "    # Append the rest of the unused letters\n",
    "    for letter in alphabet:\n",
    "        if letter not in letter_list:\n",
    "            letter_list.append(letter)\n",
    "\n",
    "    # Create mapping: plaintext -> cipher\n",
    "    for index in range(len(alphabet)):\n",
    "        cipher_alphabet[alphabet[index]] = letter_list[index]\n",
    "\n",
    "    return cipher_alphabet\n",
    "\n",
    "\n",
    "def encrypt(message, keyword):\n",
    "    cipher_alphabet = keyword_cipher_alphabet(keyword)\n",
    "    encrypted = \"\"\n",
    "\n",
    "    for char in message.lower():\n",
    "        if char in cipher_alphabet:\n",
    "            encrypted += cipher_alphabet[char]\n",
    "        else:\n",
    "            encrypted += char  # leave spaces/punctuation unchanged\n",
    "    return encrypted\n",
    "\n",
    "\n",
    "def decrypt(message, keyword):\n",
    "    cipher_alphabet = keyword_cipher_alphabet(keyword)\n",
    "    # Reverse dictionary: cipher -> plain\n",
    "    reverse_alphabet = {v: k for k, v in cipher_alphabet.items()}\n",
    "    decrypted = \"\"\n",
    "\n",
    "    for char in message.lower():\n",
    "        if char in reverse_alphabet:\n",
    "            decrypted += reverse_alphabet[char]\n",
    "        else:\n",
    "            decrypted += char\n",
    "    return decrypted\n",
    "\n",
    "\n",
    "# Example usage:\n",
    "keyword = \"grandmother\"\n",
    "plaintext = \"attack at dawn\"\n",
    "encrypted_text = encrypt(plaintext, keyword)\n",
    "decrypted_text = decrypt(encrypted_text, keyword)\n",
    "\n",
    "print(\"Keyword:\", keyword)\n",
    "print(\"Plaintext:\", plaintext)\n",
    "print(\"Encrypted:\", encrypted_text)\n",
    "print(\"Decrypted:\", decrypted_text)\n"
   ]
  }
 ],
 "metadata": {
  "kernelspec": {
   "display_name": "Python 3",
   "language": "python",
   "name": "python3"
  },
  "language_info": {
   "codemirror_mode": {
    "name": "ipython",
    "version": 3
   },
   "file_extension": ".py",
   "mimetype": "text/x-python",
   "name": "python",
   "nbconvert_exporter": "python",
   "pygments_lexer": "ipython3",
   "version": "3.12.1"
  }
 },
 "nbformat": 4,
 "nbformat_minor": 5
}
