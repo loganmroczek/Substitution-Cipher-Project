{
 "cells": [
  {
   "cell_type": "code",
   "execution_count": null,
   "id": "a7b7b7ff",
   "metadata": {},
   "outputs": [],
   "source": [
    "# run to get access to functions in generic_sub_ciphers.ipynb (substitution_encrypt, substitution_decrypt, add_upper are ones that will be needed)\n",
    "%run ../Generic_Sub_Ciphers/generic_sub_ciphers.ipynb"
   ]
  },
  {
   "cell_type": "code",
   "execution_count": null,
   "id": "7bf48b50",
   "metadata": {},
   "outputs": [],
   "source": [
    "def keyword_cipher_alphabet(keyword): \n",
    "    \n",
    "    \"\"\"\n",
    "    Returns a cipher_alphabet that starts with a keyword followed by the remaining letters in the alphabet\n",
    "\n",
    "    :param keyword: the keyword appended to the start of the cipher alphabet\n",
    "    \"\"\"\n",
    "    alphabet = \"abcdefghijklmnopqrstuvwxyz\"\n",
    "    letter_list = []\n",
    "    cipher_alphabet = {}\n",
    "\n",
    "    # appends letters of keyword to letter_list if not already in letter_list\n",
    "    for letter in keyword:\n",
    "        if letter not in letter_list:\n",
    "           letter_list.append(letter)\n",
    "\n",
    "    # simultaneously appends letters from alphabet not already in letter_list to letter_list and maps the letters as values to alphabet keys\n",
    "    for index in range(len(alphabet)):\n",
    "        if alphabet[index] not in letter_list:\n",
    "           letter_list.append(alphabet[index])\n",
    "        cipher_alphabet[alphabet[index]] = letter_list[index]\n",
    "\n",
    "    return(cipher_alphabet)\n"
   ]
  },
  {
   "cell_type": "code",
   "execution_count": null,
   "id": "b3ab9b47",
   "metadata": {},
   "outputs": [],
   "source": [
    "def keyword_encrypt(plaintext_file, ciphertext_file, keyword):\n",
    "    \"\"\"\n",
    "    Reads plaintext file, encrypts using keyword cipher and writes to cipher text file\n",
    "\n",
    "    :param plaintext_file: plaintext file to be read and encrypted\n",
    "    :param ciphertext_file: encrypted text is written to this file\n",
    "    \"\"\"\n",
    "    # creates cipher_alphabet\n",
    "    cipher_alphabet = keyword_cipher_alphabet(keyword)\n",
    "\n",
    "    # calls the generic substitution_encrypt function which encrypts plaintext_file and writes to ciphertext_file\n",
    "    substitution_encrypt(plaintext_file, ciphertext_file, cipher_alphabet)\n"
   ]
  },
  {
   "cell_type": "code",
   "execution_count": null,
   "id": "10fa10cb",
   "metadata": {},
   "outputs": [],
   "source": [
    "def keyword_decrypt(ciphertext_file, plaintext_file, keyword):\n",
    "    \"\"\"\n",
    "    Reads cipher text file, decrypts using keyword cipher and writes to plaintext file\n",
    "\n",
    "    :param ciphertext_file: encrypted text to be read and decrypted\n",
    "    :param plaintext_file: plain text is written to this file\n",
    "    \"\"\"\n",
    "    # creates cipher_alphabet\n",
    "    cipher_alphabet = keyword_cipher_alphabet(keyword)\n",
    "\n",
    "    # calls the generic substitution_decrypt function which decrypts ciphertext_file and writes to plaintext_file\n",
    "    substitution_decrypt(ciphertext_file, plaintext_file, cipher_alphabet)\n"
   ]
  }
 ],
 "metadata": {
  "kernelspec": {
   "display_name": "Python 3",
   "language": "python",
   "name": "python3"
  },
  "language_info": {
   "codemirror_mode": {
    "name": "ipython",
    "version": 3
   },
   "file_extension": ".py",
   "mimetype": "text/x-python",
   "name": "python",
   "nbconvert_exporter": "python",
   "pygments_lexer": "ipython3",
   "version": "3.12.1"
  }
 },
 "nbformat": 4,
 "nbformat_minor": 5
}
